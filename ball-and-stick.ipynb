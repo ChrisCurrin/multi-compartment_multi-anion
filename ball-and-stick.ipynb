{
 "cells": [
  {
   "cell_type": "code",
   "execution_count": null,
   "metadata": {
    "collapsed": true
   },
   "outputs": [],
   "source": [
    "import sys, getopt\n",
    "from simulator import Simulator\n",
    "from compartment import Compartment\n",
    "from diffusion import Diffusion\n",
    "from common import default_radius_short\n",
    "from colormap import Colormap\n",
    "import numpy as np\n",
    "import datetime\n",
    "\n",
    "print(\"ball-and-stick-with-input\")\n",
    "sim = Simulator().get_instance()\n",
    "gui = sim.gui()\n",
    "dt = 0.001  # s\n",
    "\n",
    "length = 10e-5\n",
    "\n",
    "comp = Compartment(\"reference\", z=-0.85\n",
    "                   , cli=0.0052,\n",
    "                   ki=0.0123,\n",
    "                   nai=0.014,\n",
    "                   length=length,\n",
    "                   radius=default_radius_short, stretch_w=stretch)\n",
    "\n",
    "# copies left\n",
    "compl = comp.copy(\"dendrite left\")\n",
    "\n",
    "# copies right\n",
    "compr = []\n",
    "compr.append(comp.copy(\"dendrite right \" + str(1)))\n",
    "for i in range(nrcomps):\n",
    "    compr.append(comp.copy(\"dendrite right \" + str(i + 2)))"
   ]
  }
 ],
 "metadata": {
  "kernelspec": {
   "display_name": "Python 3",
   "language": "python",
   "name": "python3"
  },
  "language_info": {
   "codemirror_mode": {
    "name": "ipython",
    "version": 3
   },
   "file_extension": ".py",
   "mimetype": "text/x-python",
   "name": "python",
   "nbconvert_exporter": "python",
   "pygments_lexer": "ipython3",
   "version": "3.5.2"
  }
 },
 "nbformat": 4,
 "nbformat_minor": 2
}
